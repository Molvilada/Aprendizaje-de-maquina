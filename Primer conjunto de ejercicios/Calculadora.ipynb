{
  "nbformat": 4,
  "nbformat_minor": 0,
  "metadata": {
    "colab": {
      "name": "Calculadora.ipynb",
      "provenance": [],
      "collapsed_sections": [],
      "authorship_tag": "ABX9TyPPwC9GGh3CfDpV5PoJke2W",
      "include_colab_link": true
    },
    "kernelspec": {
      "name": "python3",
      "display_name": "Python 3"
    },
    "language_info": {
      "name": "python"
    }
  },
  "cells": [
    {
      "cell_type": "markdown",
      "metadata": {
        "id": "view-in-github",
        "colab_type": "text"
      },
      "source": [
        "<a href=\"https://colab.research.google.com/github/Molvilada/Aprendizaje-de-maquina/blob/main/Primer%20conjunto%20de%20ejercicios/Calculadora.ipynb\" target=\"_parent\"><img src=\"https://colab.research.google.com/assets/colab-badge.svg\" alt=\"Open In Colab\"/></a>"
      ]
    },
    {
      "cell_type": "code",
      "metadata": {
        "id": "z1IP2a1-1T_Z"
      },
      "source": [
        "import re"
      ],
      "execution_count": 142,
      "outputs": []
    },
    {
      "cell_type": "code",
      "metadata": {
        "id": "cSL0P4aqnY2F"
      },
      "source": [
        "def calculator(s):\n",
        "  arr = []\n",
        "  prev = \"\"\n",
        "  s = s.replace(\" \", \"\")\n",
        "  for char in s:\n",
        "    if prev.isdigit() and char.isdigit():\n",
        "        arr.append(arr.pop() + char)\n",
        "    else:\n",
        "        arr.append(char)\n",
        "    prev = char\n",
        "  return calculate(arr)\n",
        "\n",
        "def calculate(tokens):\n",
        "  if len(tokens) == 0:\n",
        "    return 0\n",
        "  stack = []\n",
        "  operation = '+'\n",
        "  while len(tokens) > 0:\n",
        "    token = tokens.pop(0)\n",
        "    if(token == \"(\"):\n",
        "      num = calculate(tokens) \n",
        "      token = str(num)\n",
        "    if(re.search(\"[0-9]+.?[0-9]*\", token)):\n",
        "      token = float(token)\n",
        "      if len(stack) == 0 or operation == \"+\":\n",
        "        stack.append(token)\n",
        "      elif operation == \"-\":\n",
        "        stack.append(-token)\n",
        "      elif operation == \"*\":\n",
        "        stack[-1] = stack[-1]*token\n",
        "      elif operation == \"/\":\n",
        "        stack[-1] = stack[-1]/token\n",
        "    elif(token != \")\"):\n",
        "      operation = token\n",
        "    else:\n",
        "      break \n",
        "  return sum(stack)"
      ],
      "execution_count": 161,
      "outputs": []
    },
    {
      "cell_type": "code",
      "metadata": {
        "colab": {
          "base_uri": "https://localhost:8080/"
        },
        "id": "cN0ofQyEqD6T",
        "outputId": "f211f47c-c0bf-429b-e7fa-96cd2ab40380"
      },
      "source": [
        "a = calculator(\"(2+6*3+5- (3*14/7+2)*5)+3\")\n",
        "print(\"SOLUCION: \", a)"
      ],
      "execution_count": 160,
      "outputs": [
        {
          "output_type": "stream",
          "name": "stdout",
          "text": [
            "(2+6*3+5-(3*14/7+2)*5)+3\n",
            "SOLUCION:  -12.0\n"
          ]
        }
      ]
    }
  ]
}