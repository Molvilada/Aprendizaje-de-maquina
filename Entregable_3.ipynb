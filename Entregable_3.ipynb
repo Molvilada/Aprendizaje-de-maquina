{
  "nbformat": 4,
  "nbformat_minor": 0,
  "metadata": {
    "colab": {
      "name": "Entregable 3 - Aprendizaje de máquina",
      "provenance": [],
      "toc_visible": true,
      "authorship_tag": "ABX9TyNdslYdljY61ppQBDcjjpn2",
      "include_colab_link": true
    },
    "kernelspec": {
      "name": "python3",
      "display_name": "Python 3"
    },
    "language_info": {
      "name": "python"
    }
  },
  "cells": [
    {
      "cell_type": "markdown",
      "metadata": {
        "id": "view-in-github",
        "colab_type": "text"
      },
      "source": [
        "<a href=\"https://colab.research.google.com/github/Molvilada/Aprendizaje-de-maquina/blob/main/Entregable_3.ipynb\" target=\"_parent\"><img src=\"https://colab.research.google.com/assets/colab-badge.svg\" alt=\"Open In Colab\"/></a>"
      ]
    },
    {
      "cell_type": "markdown",
      "metadata": {
        "id": "58novY0dDQE0"
      },
      "source": [
        "#**Entregable 3**\n",
        "**Nombre:** Laura Daniela Molina Villar\n",
        "\n",
        "\n",
        "---\n"
      ]
    },
    {
      "cell_type": "markdown",
      "metadata": {
        "id": "bqwNlgRNSG5L"
      },
      "source": [
        "### **Ejercicio 2.2**\n",
        "\n",
        "a. \\\\\n",
        "> i) El breakpoint $k$ de los rayos positivos es 2, por lo tanto $m_H(N) = N + 1 \\leq \\sum_{i=0}^{1} \\binom{N}{i} =  N + 1$, asi $m_H(N) \\leq N + 1$\n",
        "\n",
        "> ii) EL breakpoint $k$ de los intervalos positivos es 3, por lo tanto $m_H(N) = \\frac{1}{2}\\left(n^{2} + n + 2 \\right) \\leq \\sum_{i=0}^{2} \\binom{N}{i} =  \\frac{1}{2}\\left(N^{2} + N + 2 \\right)$, así $m_H(N) \\leq  \\frac{1}{2}\\left(N^{2} + N + 2 \\right)$\n",
        "\n",
        "> iii) EL breakpoint $k$ de para los conjuntos convexos sería $N + 1$, por lo tanto $m_H(N) = 2^{N}\\leq \\sum_{i=0}^{N} \\binom{N}{i} = 2^{N}$, asi $m_H(N) \\leq 2^{N}$\n",
        "\n",
        "\n",
        "b. Si $m_{\\mathcal{H}}(N) = N+2^{ \\lfloor\\frac{N}{2}\\rfloor}$, entonces el breakpoint es $k = 3$, ya que $3+2^{ \\lfloor\\frac{3}{2}\\rfloor} \\leq 2^3$. Utilizando el teorema, tenemos que $m_{H}(N) = N+2^{\\lfloor\\frac{N}{2}\\rfloor} \\leq \\sum^{2}_{i=0}{N \\choose i} = \\frac{1}{2}\\left(N^{2} + N + 2 \\right)$ pero esta desigualdad no siempre se cumple, por ejemplo con $N = 16$ se tendría que $272 \\leq 137$ lo cual es falso. Por lo tanto no existe esa hipótesis. "
      ]
    },
    {
      "cell_type": "markdown",
      "metadata": {
        "id": "DcQeVmSYFqVL"
      },
      "source": [
        "### **Ejercicio 2.5**\n",
        "Usando la desigualdad VC\n",
        "\n",
        "$$P\\left[  sup_{H\\in h} | E_{in}(h) - E_{out}(h)| > \\epsilon \\right] \\leq 4m_H(2N) e^{\\frac{-1}{8} \\epsilon^{2} N}$$\n",
        "\n",
        "Tenemos que\n",
        "\n",
        "$$P\\left[  sup_{H\\in h} | E_{in}(h) - E_{out}(h)| > 0.1 \\right] \\leq 4(2\\cdot100 + 1) e^{\\frac{-1}{8} 0.1^{2} 100}$$\n",
        "\n",
        "\n",
        "$$P\\left[  sup_{H\\in h} | E_{in}(h) - E_{out}(h)| > 0.1 \\right] \\leq 709.53$$\n",
        "\n",
        "Es decir la probabilidad de que $E_{in}$ se acerce a $E_{out}$ alrededor de 0.1 es menor a 709.53\n"
      ]
    },
    {
      "cell_type": "markdown",
      "metadata": {
        "id": "iNFfiDIKXWYM"
      },
      "source": [
        "### **Ejercicio 2.6**\n",
        "\n",
        "a. Como el tamaño del conjunto de hipotesis $\\mathcal{H}$ es fijo en los dos casos (1000 hipotesis en el entrenamiento, y 1 para el testeo), entonces podemos usar el límite de generalización\n",
        "\n",
        "$$E_{out}(g) \\leq E_{in}(g) + \\sqrt{\\frac{1}{2\\cdot400}\\ln\\frac{2\\cdot1000}{0.05}} \\approx\n",
        " E_{in}(g) + 0.115$$\n",
        "\n",
        " $$E_{out}(g) \\leq E_{test}(g) + \\sqrt{\\frac{1}{2\\cdot200}\\ln\\frac{2\\cdot1}{0.05}} \\approx\n",
        " E_{test}(g) + 0.096$$\n",
        "\n",
        " Entonces el error en la muestra tendrá una mayor \"barra de error\" que la del error en los datos de entrenamiento\n",
        "\n",
        " b. El reservar más ejemplos para testeo ocasiona tener menos ejemplos para el entremiento, lo que aumentaría la \"barra de error\" en el error en la muestra, es decir la hipotesis g encontrada puede llegar a no ser tan buena como se espera. \n",
        "\n"
      ]
    },
    {
      "cell_type": "markdown",
      "metadata": {
        "id": "Q07s7FeTvSJ3"
      },
      "source": [
        "### **Problema 2.1**\n",
        "Empecemos despejando el valor de N\n",
        "$$\\epsilon \\leq \\sqrt{\\frac{1}{2N}\\ln\\frac{2M}{\\delta}}$$\n",
        "$$N \\geq \\frac{1}{2\\epsilon^{2}}\\ln\\frac{2M}{\\delta}$$\n",
        "\n",
        "a. \n",
        "$$N \\geq \\frac{1}{2\\cdot0.05^{2}}\\ln\\frac{2\\cdot 1}{0.03} = 839.94$$\n",
        "\n",
        "b. \n",
        "$$N \\geq \\frac{1}{2\\cdot0.05^{2}}\\ln\\frac{2\\cdot 100}{0.03} = 1760.98$$\n",
        "\n",
        "c. \n",
        "$$N \\geq \\frac{1}{2\\cdot0.05^{2}}\\ln\\frac{2\\cdot 100}{0.03} = 2682.01$$"
      ]
    },
    {
      "cell_type": "markdown",
      "metadata": {
        "id": "eFfH3BTxaQ8N"
      },
      "source": [
        "### **Problema 2.12**\n",
        "\n",
        "Utilizando \n",
        "\n",
        "$$N \\geq \\frac{8}{\\epsilon^{2}} \\ln \\left(\\frac{4((2N)^{d_{vc}} + 1)}{\\delta} \\right)$$\n",
        "\n",
        "Teniendo en cuenta que $\\epsilon =  0.05$ y $\\delta = 005$\n",
        "\n",
        "$$N \\geq \\frac{8}{0.05^{2}} \\ln \\left(\\frac{4((2N)^{10} + 1)}{0.05} \\right)$$\n",
        "\n",
        "Entonces toca ir iterando con diferentes valores de N hasta que converja "
      ]
    },
    {
      "cell_type": "code",
      "metadata": {
        "colab": {
          "base_uri": "https://localhost:8080/"
        },
        "id": "BUs5gB0ofaSJ",
        "outputId": "e07c9af2-7c8e-4b60-a3a0-a993f06a7ead"
      },
      "source": [
        "import numpy as np\n",
        "\n",
        "dvc = 10\n",
        "delta = 0.05\n",
        "epsilon = 0.05\n",
        "N = 1000\n",
        "cont = True\n",
        "while cont:\n",
        "    res = (8/pow(epsilon,2)) * np.log(4*(pow((2*N),dvc)+1)/delta)\n",
        "    if np.round(N - res) == 0:\n",
        "      cont = False\n",
        "    N = round(res)\n",
        "print(\"Valor N: \", N)"
      ],
      "execution_count": null,
      "outputs": [
        {
          "output_type": "stream",
          "text": [
            "Valor N:  452957\n"
          ],
          "name": "stdout"
        }
      ]
    },
    {
      "cell_type": "markdown",
      "metadata": {
        "id": "TlilqFiMibEB"
      },
      "source": [
        "### **Problema 2.16**\n",
        "\n",
        "a. Tomemos un conjunto con $N =  D + 1$, en $\\mathbb{R}^{D+1}$ recordemos que los puntos quedan en $\\mathbb{R}^{D+1}$ y no $\\mathbb{R}^{D}$  ya que hay que agregarle el bias, por lo tanto:\n",
        "\n",
        "$$\\mathcal{X} = \n",
        "\\begin{pmatrix}\n",
        "1 & x_{01} & \\cdots & x_{0D}\\\\\n",
        "1 & x_{11} & \\cdots & x_{1D}\\\\\n",
        "\\vdots & \\vdots & \\ddots & \\vdots\\\\\n",
        "1 & x_{D1} & \\cdots & x_{DD}\n",
        "\\end{pmatrix}$$\n",
        "\n",
        "Se puede observar que la matriz $\\mathcal{X}$ es de dimensiones $D+1 \\text{ x } D+1$, además $x_i \\neq x_j$ para todo $x_i,x_j \\in \\mathcal{X}$ y ninguna fila en $\\mathcal{X}$ tiene todos los sus elementos en 0, por el bias, por lo tanto $\\mathcal{X}$ tiene inversa.\n",
        "\n",
        "Lo que se quiere demostrar es que existe un perceptrón $c = (c_0, c_1 ..., c_D)^{T}$ que pueda encontrar todas las posibles dicotomias, es decir un $c$ que pueda encontrar todos los $y_k$\n",
        "\n",
        "$$h_c(x_k) = sign(\\sum_{i=0}^{D} c_ix_{ki}) = y_k$$\n",
        "$$h_c(x_k) = sign( c^{T}x_{k}) = y_k$$\n",
        "$$ y = \\begin{pmatrix}\n",
        "y_0\\\\\n",
        "y_1\\\\\n",
        "\\vdots \\\\\n",
        "y_k \\\\\n",
        "\\vdots \\\\\n",
        "y_{D}\n",
        "\\end{pmatrix} $$\n",
        "\n",
        "con $y_i \\in \\{1, -1 \\}$ y $k = 0, 1 ... , D$\n",
        "\n",
        "Si tenemos $\\mathcal{X}c = y$, entonces $c = \\mathcal{X}^{-1}y$ y como $\\mathcal{X}$ si tiene inversa, entonces $c$ existe.\n",
        "\n",
        "b. En este caso consideremos $N = D + 2$ en $\\mathbb{R}^{D+1}$, cuando hay más vectores que dimensiones podemos concluir que son linealmente dependientes, entonces existe un $x_j$ tal que\n",
        "\n",
        "$$x_j = \\sum_{i \\neq j} a_ix_i$$\n",
        "\n",
        "es decir\n",
        "\n",
        "$$ x_j = \\begin{pmatrix}\n",
        "1\\\\\n",
        "x_{j1}\\\\\n",
        "\\vdots \\\\\n",
        "x_{jD}\\\\\n",
        "\\end{pmatrix}  =  a_1\\begin{pmatrix}\n",
        "1\\\\\n",
        "x_{11}\\\\\n",
        "\\vdots \\\\\n",
        "x_{1D}\\\\\n",
        "\\end{pmatrix}  + a_2\\begin{pmatrix}\n",
        "1\\\\\n",
        "x_{21}\\\\\n",
        "\\vdots \\\\\n",
        "x_{2D}\\\\\n",
        "\\end{pmatrix} + ... + a_D\\begin{pmatrix}\n",
        "1\\\\\n",
        "x_{D1}\\\\\n",
        "\\vdots \\\\\n",
        "x_{DD}\\\\\n",
        "\\end{pmatrix}$$\n",
        "\n",
        "entonces $1 = a_1\\cdot1 + a_2\\cdot1 + ... +a_D\\cdot1$ por lo tanto al menos uno de los $a_i$ debe ser diferente de 0.\n",
        "\n",
        "Vamos a crear las dicotomías con las siguientes reglas, $y_i = sign(a_i)$ cuando $a_i \\neq 0$ y $y_i = -1$ cuando $a_i = 0$, entonces vamos a coger nuestro $x_j$ y lo vamos a pasar por el perceptrón, es decir\n",
        "\n",
        "\n",
        "$$x_j = \\sum_{i \\neq j} a_ic^{T}x_i$$\n",
        "\n",
        "entonces $y_i = sign(c^{T}x_i)$. Para los $a_i \\neq 0$, esto es igual a $y_i = sign(c^{T}x_i) = sign(a_i)$, entonces $c^{T}x_ia_i \\geq 0$, por lo tanto $\\sum_{i \\neq j} a_ic^{T}x_i$ siempre tiene que ser positiva, ya que los $x_i$ con $a_i = 0$ no aportan nada a la suma. En conclusión la salida que genera un perceptrón en puntos que son combinaciones lineales, es mayor a 0, por lo tanto $y_j = sign(c^{T}x_j) = 1$, pero como siempre será 1, no es posible tener todas las posibles dicotomías, por lo tanto $D+2$ puntos no pueden ser shattered.\n",
        "\n",
        "\n",
        "\n"
      ]
    },
    {
      "cell_type": "markdown",
      "metadata": {
        "id": "TeUG_KKqq_TQ"
      },
      "source": [
        "### **Problema 2.20**\n",
        "\n",
        "Primero toca intentar dejar las cotas implicitas en explicitas, empecemos con la de Parrondo y Van den Broek:\n",
        "\n",
        "$$\\epsilon \\leq \\sqrt{\\frac{1}{N} \\left( 2\\epsilon + \\ln \\frac{6m_H(2N)}{\\delta} \\right)}$$\n",
        "\n",
        "\n",
        "$$\\epsilon^{2} \\leq \\frac{1}{N} \\left( 2\\epsilon + \\ln \\frac{6m_H(2N)}{\\delta} \\right)$$\n",
        "\n",
        "\n",
        "$$\\epsilon^{2} - \\frac{2}{N}\\epsilon \\leq  \\frac{1}{N} \\ln \\frac{6m_H(2N)}{\\delta} $$\n",
        "\n",
        "$$\\left(\\epsilon^{2} - \\frac{1}{N} \\right)^{2} \\leq + \\frac{1}{N} \\ln \\frac{6m_H(2N)}{\\delta} + \\frac{1}{N^{2}}$$\n",
        "\n",
        "\n",
        "$$\\epsilon \\leq \\sqrt{\\frac{1}{N}\\ln \\frac{6m_H(2N)}{\\delta} + \\frac{1}{N^{2}}} + \\frac{1}{N}$$\n",
        "\n",
        "Ahora con Devroye:\n",
        "\n",
        "$$\\epsilon \\leq \\sqrt{\\frac{1}{2N} \\left( 4\\epsilon(1+\\epsilon) + \\ln \\frac{4m_H(N^{2})}{\\delta} \\right)}$$\n",
        "\n",
        "$$\\epsilon^{2} \\leq \\frac{1}{2N} \\left( 4\\epsilon(1+\\epsilon) + \\ln \\frac{4m_H(N^{2})}{\\delta} \\right)$$\n",
        "\n",
        "$$N\\epsilon^{2} - 2\\epsilon (1+\\epsilon) \\leq \\frac{1}{2} \\ln \\frac{4m_H(N^{2})}{\\delta}$$\n",
        "\n",
        "$$\\left(\\epsilon - \\frac{1}{N-2} \\right)^{2} \\leq \\frac{1}{2(N-2)} \\ln \\frac{4m_H(N^{2})}{\\delta} + \\frac{1}{(N-2)^{2}}$$\n",
        "\n",
        "\n",
        "$$\\epsilon \\leq \\sqrt{\\frac{1}{2(N-2)} \\ln \\frac{4m_H(N^{2})}{\\delta} + \\frac{1}{(N-2)^{2}}} + \\frac{1}{N-2}$$\n",
        "\n",
        "\n",
        "También para la función de crecimiento vamos a utilizar:\n",
        "\n",
        "$$m_H(N) \\leq N^{d_{vc}} + 1$$\n",
        "\n",
        "Entonces vamos a escoger el valor máximo, asi $m_H(N) = N^{d_{vc}} + 1$"
      ]
    },
    {
      "cell_type": "code",
      "metadata": {
        "colab": {
          "base_uri": "https://localhost:8080/",
          "height": 282
        },
        "id": "QdnDAZYS3iA0",
        "outputId": "d797898a-3d22-49c2-83bb-b87958178fde"
      },
      "source": [
        "import numpy as np\n",
        "import matplotlib.pyplot as plt\n",
        "\n",
        "def vc(N, delta, mh):\n",
        "    return np.sqrt((8/N) * np.log((4*mh)/delta))\n",
        "\n",
        "def rademacher(N, delta, mh):\n",
        "    return np.sqrt(((2/N) * np.log(2*N*mh))) + np.sqrt((2/N) * np.log(1/delta)) + 1/N\n",
        "\n",
        "def pv(N, delta, mh):\n",
        "    return np.sqrt((1/N) * np.log((6*mh)/delta) + (1/pow(N,2))) + 1/N\n",
        "\n",
        "def devroye(N, delta, mh):\n",
        "    return np.sqrt((1/(2*N-4))* np.log((4*mh)/delta) + (1/pow(N-2,2))) + 1/(N-2)\n",
        "\n",
        "def mh(N, dvc):\n",
        "    return pow(N, dvc) + 1\n",
        "\n",
        "vcA, rademacherA, pvA, devroyeA = [],[],[],[]\n",
        "dvc = 50.0\n",
        "delta = 0.05\n",
        "points = np.arange(3, 1000)\n",
        "\n",
        "for N in points:\n",
        "    N = float(N)\n",
        "    vcA.append(vc(N, delta, mh(4*N, dvc)))\n",
        "    rademacherA.append(rademacher(N, delta, mh(N, dvc)))\n",
        "    pvA.append(pv(N, delta, mh(2*N, dvc)))\n",
        "    devroyeA.append(devroye(N, delta, mh(pow(N, 2), dvc)))\n",
        "\n",
        "plt.plot(points, vcA, color='purple', label='VC')\n",
        "plt.plot(points, rademacherA, color='blue', label='Rademacher Penalty')\n",
        "plt.plot(points, pvA, color='red', label='Parrondo y Van den Broek')\n",
        "plt.plot(points, devroyeA, color='green', label='Devroye')\n",
        "plt.legend()\n",
        "\n"
      ],
      "execution_count": null,
      "outputs": [
        {
          "output_type": "execute_result",
          "data": {
            "text/plain": [
              "<matplotlib.legend.Legend at 0x7f9dff4ece50>"
            ]
          },
          "metadata": {
            "tags": []
          },
          "execution_count": 49
        },
        {
          "output_type": "display_data",
          "data": {
            "image/png": "[encoded data removed]",
            "text/plain": [
              "<Figure size 432x288 with 1 Axes>"
            ]
          },
          "metadata": {
            "tags": [],
            "needs_background": "light"
          }
        }
      ]
    },
    {
      "cell_type": "markdown",
      "metadata": {
        "id": "kFOENU6jJ_os"
      },
      "source": [
        "Como se puede observar, las cotas de Parrondo y Van den Broek y la de Devroye se podría decir que son las mejores, ya que disminuyen mucho más rápido ( Nota: esto pasa con N pequeños, pero luego con N grandes disminuye mucho más lento)"
      ]
    }
  ]
}